{
 "cells": [
  {
   "cell_type": "markdown",
   "metadata": {},
   "source": [
    "####**Records of Denver, Colorado Police Pedestrian Stops and Vehicle Stops**"
   ]
  },
  {
   "cell_type": "code",
   "execution_count": 1,
   "metadata": {},
   "outputs": [
    {
     "name": "stderr",
     "output_type": "stream",
     "text": [
      "UsageError: Line magic function `%fs` not found.\n"
     ]
    }
   ],
   "source": [
    "%fs ls /FileStore/tables/"
   ]
  },
  {
   "cell_type": "code",
   "execution_count": null,
   "metadata": {},
   "outputs": [],
   "source": [
    "spark"
   ]
  },
  {
   "cell_type": "code",
   "execution_count": null,
   "metadata": {},
   "outputs": [],
   "source": [
    "DenverCrimeDataDF = spark.read.csv('/FileStore/tables/DenverCrimeData.csv', header=True, inferSchema=True)\n"
   ]
  },
  {
   "cell_type": "code",
   "execution_count": null,
   "metadata": {},
   "outputs": [],
   "source": [
    "from pyspark.sql.types import StructType, StructField, IntegerType, StringType, DoubleType"
   ]
  },
  {
   "cell_type": "code",
   "execution_count": null,
   "metadata": {},
   "outputs": [],
   "source": [
    "# Note that we are removing all space characters from the col names to prevent errors when writing to Parquet later\n",
    "\n",
    "CrimeSchema = StructType([StructField('MASTER_INCIDENT_NUMBER', StringType(), True),\n",
    "                     StructField('PRIORITY_DESCRIPTION', StringType(), True),\n",
    "                     StructField('PROBLEM', StringType(), True),\n",
    "                     StructField('ADDRESS', StringType(), True),   \n",
    "                     StructField('CALL_CLASS', IntegerType(), True),\n",
    "                     StructField('TIME_PHONEPICKUP', StringType(), True),\n",
    "                     StructField('CALL_DISPOSITION', StringType(), True),\n",
    "                     StructField('GEO_X', DoubleType(), True),\n",
    "                     StructField('GEO_Y', DoubleType(), True),\n",
    "                     StructField('GEO_LON', DoubleType(), True),\n",
    "                     StructField('GEO_LAT', DoubleType(), True),\n",
    "                     StructField('DISTRICT_ID', IntegerType(), True),\n",
    "                     StructField('PRECINCT_ID', IntegerType(), True),\n",
    "                     StructField('NEIGHBORHOOD_NAME', StringType(), True),\n",
    "])"
   ]
  },
  {
   "cell_type": "code",
   "execution_count": null,
   "metadata": {},
   "outputs": [],
   "source": [
    "#Notice that no job is run this time\n",
    "denverCrimeDataDF = spark.read.csv('/FileStore/tables/DenverCrimeData.csv', header=True, schema=CrimeSchema)"
   ]
  },
  {
   "cell_type": "code",
   "execution_count": null,
   "metadata": {},
   "outputs": [],
   "source": [
    "denverCrimeDataDF.limit(5).show()"
   ]
  },
  {
   "cell_type": "code",
   "execution_count": null,
   "metadata": {},
   "outputs": [],
   "source": [
    "denverCrimeDataDF.columns"
   ]
  },
  {
   "cell_type": "code",
   "execution_count": null,
   "metadata": {},
   "outputs": [],
   "source": [
    "denverCrimeDataDF.count()"
   ]
  },
  {
   "cell_type": "markdown",
   "metadata": {},
   "source": [
    "** Summary statistics **"
   ]
  },
  {
   "cell_type": "code",
   "execution_count": null,
   "metadata": {},
   "outputs": [],
   "source": [
    "display(denverCrimeDataDF.describe())"
   ]
  },
  {
   "cell_type": "markdown",
   "metadata": {},
   "source": [
    "** Create a CSV file with all the incidents in the most eventful neighborhood**"
   ]
  },
  {
   "cell_type": "code",
   "execution_count": null,
   "metadata": {},
   "outputs": [],
   "source": [
    "denverCrimeDataDF.select('NEIGHBORHOOD_NAME').groupBy('NEIGHBORHOOD_NAME').count().orderBy(\"count\", ascending=False).limit(1).createOrReplaceTempView(\"sfpdDF\")"
   ]
  },
  {
   "cell_type": "code",
   "execution_count": null,
   "metadata": {},
   "outputs": [],
   "source": [
    "#denverCrimeDataDF.filter('NEIGHBORHOOD_NAME' == 'Five Points)\n",
    "                         \n",
    "from pyspark.sql.functions import col\n",
    "top10ResSQL = spark.sql(\"SELECT NEIGHBORHOOD_NAME from sfpdDF \")\n",
    "TopNeighDataDF = denverCrimeDataDF.where(col(\"NEIGHBORHOOD_NAME\").isin([(top10ResSQL.collect()[0][0])]))   \n",
    "TopNeighDataDF.coalesce(1).write.format(\"csv\").save('/FileStore/TopNeighDetails/TopNeighDataDetails.csv')"
   ]
  },
  {
   "cell_type": "markdown",
   "metadata": {},
   "source": [
    "** Top 10 incident neighborhoods by count**"
   ]
  },
  {
   "cell_type": "code",
   "execution_count": null,
   "metadata": {},
   "outputs": [],
   "source": [
    "#Note that .count() is actually a transformation here\n",
    "display(denverCrimeDataDF.select('NEIGHBORHOOD_NAME').groupBy('NEIGHBORHOOD_NAME').count().orderBy(\"count\", ascending=False).limit(10))\n"
   ]
  },
  {
   "cell_type": "markdown",
   "metadata": {},
   "source": [
    "** Trend over time by number of incidents**"
   ]
  },
  {
   "cell_type": "code",
   "execution_count": null,
   "metadata": {},
   "outputs": [],
   "source": [
    "denverCrimeDataDF.printSchema()"
   ]
  },
  {
   "cell_type": "code",
   "execution_count": null,
   "metadata": {},
   "outputs": [],
   "source": [
    "from pyspark.sql.functions import *"
   ]
  },
  {
   "cell_type": "code",
   "execution_count": null,
   "metadata": {},
   "outputs": [],
   "source": [
    "denverCrimeDataTsDF = denverCrimeDataDF.withColumn('TIME_PHONEPICKUP_TS', to_timestamp(denverCrimeDataDF['TIME_PHONEPICKUP'], 'dd-MM-yy').cast(\"timestamp\")) #.drop('TIME_PHONEPICKUP')  \n",
    "#denverCrimeDataTsDF.show()\n",
    "\n",
    "display(denverCrimeDataTsDF.select('PROBLEM','TIME_PHONEPICKUP_TS').groupBy('PROBLEM',year('TIME_PHONEPICKUP_TS')).count().orderBy(\"count\", ascending=False).limit(10))\n",
    "\n",
    "#denverCrimeDataTsDF.select(year('TIME_PHONEPICKUP_TS')).distinct().orderBy('year(TIME_PHONEPICKUP_TS)').show()"
   ]
  },
  {
   "cell_type": "code",
   "execution_count": null,
   "metadata": {},
   "outputs": [],
   "source": [
    "denverCrimeDataTsDF.printSchema()"
   ]
  },
  {
   "cell_type": "markdown",
   "metadata": {},
   "source": [
    "** Most common resolutions **"
   ]
  },
  {
   "cell_type": "code",
   "execution_count": null,
   "metadata": {},
   "outputs": [],
   "source": [
    "\n",
    "display(denverCrimeDataDF.select('CALL_DISPOSITION').groupBy('CALL_DISPOSITION').count().orderBy(\"count\", ascending=False).limit(10))\n"
   ]
  },
  {
   "cell_type": "markdown",
   "metadata": {},
   "source": [
    "##** Additional insights **"
   ]
  },
  {
   "cell_type": "markdown",
   "metadata": {},
   "source": [
    "**The number of problems by category**"
   ]
  },
  {
   "cell_type": "code",
   "execution_count": null,
   "metadata": {},
   "outputs": [],
   "source": [
    "\n",
    "display(denverCrimeDataDF.select('PROBLEM').groupBy('PROBLEM').count().orderBy(\"count\", ascending=False).limit(10))\n"
   ]
  },
  {
   "cell_type": "markdown",
   "metadata": {},
   "source": [
    "**The number of problems by category and the respective resolutions**"
   ]
  },
  {
   "cell_type": "code",
   "execution_count": null,
   "metadata": {},
   "outputs": [],
   "source": [
    "display(denverCrimeDataDF.select('CALL_DISPOSITION','PROBLEM').groupBy('CALL_DISPOSITION','PROBLEM').count().orderBy(\"count\", ascending=False).limit(10))\n"
   ]
  },
  {
   "cell_type": "markdown",
   "metadata": {},
   "source": [
    "**Priority Description categorised by problem**"
   ]
  },
  {
   "cell_type": "code",
   "execution_count": null,
   "metadata": {},
   "outputs": [],
   "source": [
    "\n",
    "display(denverCrimeDataDF.select('PRIORITY_DESCRIPTION','PROBLEM').groupBy('PRIORITY_DESCRIPTION','PROBLEM').count().orderBy(\"count\", ascending=False).limit(10))"
   ]
  },
  {
   "cell_type": "markdown",
   "metadata": {},
   "source": [
    "**Number of incidents occured in every month till date**"
   ]
  },
  {
   "cell_type": "code",
   "execution_count": null,
   "metadata": {},
   "outputs": [],
   "source": [
    "display(denverCrimeDataTsDF.select('TIME_PHONEPICKUP_TS').groupBy(month('TIME_PHONEPICKUP_TS')).count().orderBy(month('TIME_PHONEPICKUP_TS')).limit(13))"
   ]
  }
 ],
 "metadata": {
  "kernelspec": {
   "display_name": "Python 3",
   "language": "python",
   "name": "python3"
  },
  "language_info": {
   "codemirror_mode": {
    "name": "ipython",
    "version": 3
   },
   "file_extension": ".py",
   "mimetype": "text/x-python",
   "name": "python",
   "nbconvert_exporter": "python",
   "pygments_lexer": "ipython3",
   "version": "3.7.2"
  },
  "name": "Denver Data Exploration",
  "notebookId": 541282701799193
 },
 "nbformat": 4,
 "nbformat_minor": 1
}
